{
 "cells": [
  {
   "cell_type": "markdown",
   "metadata": {
    "slideshow": {
     "slide_type": "slide"
    },
    "solution": "shown"
   },
   "source": [
    "---\n",
    "\n",
    "# 1. Language and Syntax\n",
    "**[Emil Sekerinski](http://www.cas.mcmaster.ca/~emil/), McMaster University, January 2021**\n",
    "\n",
    "---"
   ]
  },
  {
   "cell_type": "markdown",
   "metadata": {
    "slideshow": {
     "slide_type": "slide"
    }
   },
   "source": [
    "### Language and Grammar"
   ]
  },
  {
   "cell_type": "markdown",
   "metadata": {
    "slideshow": {
     "slide_type": "-"
    }
   },
   "source": [
    "Every language is based on a _vocabulary_. Its elements are called _words_ or _symbols_ whose structure is of no further interest. The _syntax_ determines which sequences of words, called *sentences*, belong to the language.\n",
    "\n",
    "| language                | symbols                                          |\n",
    "|:------------------------|:-------------------------------------------------|\n",
    "| English                 | `eats`, `Kevin`, `a`, `banana`, ...              |\n",
    "| Roman numerals          | `I`, `V`, `X`, `L`, `C`, `D`, `M`                |\n",
    "| identifiers in programs | `A`, `B`, ..., `a`, `b`, ..., `0`, `1`, ..., `_` |\n",
    "| arithmetic expressions  | `dist`, `rot`, `24`, `+`, `-`, `×`, `/`, ...     |"
   ]
  },
  {
   "cell_type": "markdown",
   "metadata": {
    "slideshow": {
     "slide_type": "-"
    },
    "solution": "hidden",
    "solution_first": true
   },
   "source": [
    "**Question:** What are other non-spoken languages?"
   ]
  },
  {
   "cell_type": "markdown",
   "metadata": {
    "slideshow": {
     "slide_type": "fragment"
    },
    "solution": "hidden"
   },
   "source": [
    "_Answer:_\n",
    "- Chemical formulae, e.g <code>H<sub>3</sub>O<sup>+</sup></code> for hydronium.\n",
    "- Musical scores, with vocabulary 🎼, ♭, ♮, ♯, ♩, ♪, ♫, ♬, etc.\n",
    "- Morse code, with vocabulary \"●\" (short), \"━━━\" (long), \" \" (pause)."
   ]
  },
  {
   "cell_type": "markdown",
   "metadata": {
    "slideshow": {
     "slide_type": "slide"
    }
   },
   "source": [
    "<div style=\"float:right;background-color:lightgrey;border-left:20px solid white\">\n",
    "\n",
    "**Example:** if `V = {a, b}`, then  \n",
    "`Vᐩ = {a, b, aa, ab, ba, bb, aaa, … }`  \n",
    "`V* = {ε, a, b, aa, ab, ba, bb, aaa, … }`  \n",
    "The sentences of the language  \n",
    "`L = {σaσ | σ ∈ V*}`  \n",
    "are those sequences that contain at least one `a`.</div>\n",
    "Formally, a vocabulary `V` is a finite, non-empty set of (atomic) symbols. The set `V*` of all _finite sequences_ or _strings_ over `V` consists of\n",
    "\n",
    "- the empty string `ε`,\n",
    "- any symbol `x ∈ V`,\n",
    "- the _concatenation_ `στ` of strings `σ, τ ∈ V*`.\n",
    "\n",
    "The empty sequence is both the left and right identity of concatenation and concatenation is associative, meaning that parenthesis can be left out. Formally for any `σ, τ, ω ∈ V*`:\n",
    "\n",
    "\tσε = σ = εσ\n",
    "    (στ)ω = σ(τω)\n",
    "\n",
    "The set of all _non-empty strings_ over `V` is denoted by `Vᐩ`, formally `Vᐩ = V* – {ε}`. The _length_ of string `σ` is written as `|σ|`:\n",
    "\n",
    "- `|ε| = 0`,\n",
    "- `|x| = 1` for any `x ∈ V`,\n",
    "- `|στ| = |σ| + |τ|` for any `σ, τ ∈ V*`."
   ]
  },
  {
   "cell_type": "markdown",
   "metadata": {
    "slideshow": {
     "slide_type": "slide"
    }
   },
   "source": [
    "<img style=\"width:16em;height:auto;float:right;border-left:10px solid white\" src=\"./img/NLexample.svg\"></img>\n",
    "A *grammar* not only determines unambiguously which sequences of words are sentences and which not but also provides sentences with a *structure*. The structure is instrumental in recognizing the *semantic* of a sentence, which is our ultimate goal.\n",
    "\n",
    "The theory of formal languages originates in linguistics. A basic rule of English is that sentences (`S`) consists of a noun phrase (`NP`) followed by verb phrase (`VP`). A noun phrase is either a proper name (`PN`) or a determiner (`D`) followed by a noun (`N`). A verb phrase is either a verb (`V`) or a verb followed by a noun phrase. Determiners are `a` and `the`. The hierarchical composition of an English sentence by a *parse tree* is given to the right; below are the corresponding rules. Grammars of this form are called *generative* and the rules are called *productions*, as they determine how all sentences of a language are generated."
   ]
  },
  {
   "cell_type": "markdown",
   "metadata": {
    "slideshow": {
     "slide_type": "slide"
    },
    "solution2": "hidden",
    "solution2_first": true
   },
   "source": [
    "<div style=\"float:right;background-color:lightgrey;margin-left:18pt\">\n",
    "\n",
    "`S → NP VP`  \n",
    "`NP → PN`  \n",
    "`NP → D N`  \n",
    "`VP → V`  \n",
    "`VP → V NP`  \n",
    "`PN → Kevin`  \n",
    "`PN → Dave`  \n",
    "`D → a`  \n",
    "`D → the`  \n",
    "`N → banana`  \n",
    "`N → apple`  \n",
    "`V → eats`  \n",
    "`V → runs`\n",
    "\n",
    "</div>\n",
    "\n",
    "Formally, grammar `G = (T, N, P, S)` is specified by\n",
    "\n",
    "- a finite set `T` of *terminal symbols*,\n",
    "- a finite set `N` of *nonterminal symbols*,\n",
    "- a finite set `P` of *productions*,\n",
    "- a symbol `S ∈ N`, the *start symbol*\n",
    "\n",
    "where `N ∩ T = {}` and `V = T ∪ N` is its vocabulary. Productions are pairs of strings `σ ∈ Vᐩ`, `τ ∈ V*`, written `σ → τ`.\n",
    "\n",
    "**Example.** `G₀ = (T, N, P, S)` with `T = {Kevin, Dave, a, the, banana, apple, eats, runs}`, `N = {S, NP, VP, PN, D, N, V}`, and the productions to the right is a grammar."
   ]
  },
  {
   "cell_type": "markdown",
   "metadata": {
    "slideshow": {
     "slide_type": "slide"
    }
   },
   "source": [
    "<div style=\"float:right;background-color:lightgrey;margin-left:18pt\">\n",
    "\n",
    "  `S`  \n",
    "`⇒ NP VP`  \n",
    "`⇒ PN VP`  \n",
    "`⇒ Kevin VP`  \n",
    "`⇒ Kevin V NP`  \n",
    "`⇒ Kevin eats NP`  \n",
    "`⇒ Kevin eats D N`  \n",
    "`⇒ Kevin eats a N`  \n",
    "`⇒ Kevin eats a banana`</div>\n",
    "Given grammar `G = (T, N, P, S)`, sequence `χ ∈ V*` is _directly derivable_ from `π ∈ Vᐩ`, written `π ⇒ χ`, if there exist sequences `σ`, `τ`, `μ`, `ν` such that, `π = μσν`, `χ = μτν`, and `σ → τ ∈ P`.\n",
    "\n",
    "We write\n",
    "\n",
    "- `π ⇒* χ` if `χ` is _derivable in zero or more steps_ from `π`,\n",
    "- `π ⇒ᐩ χ` if `χ` is _derivable in one or more steps_ from `π`.\n",
    "\n",
    "Formally, `⇒*` is the transitive and reflexive closure of relation `⇒` and `⇒ᐩ` is the transitive closure of `⇒`.\n",
    "\n",
    "The derivation to the right allows to conclude that `S ⇒ᐩ Kevin eats a banana` with grammar `G₀`."
   ]
  },
  {
   "cell_type": "markdown",
   "metadata": {
    "slideshow": {
     "slide_type": "slide"
    }
   },
   "source": [
    "The _language_ `L(G)` generated by grammar `G = (T, N, P, S)` is the set of all sequences of terminal symbols which can be derived from the start symbol:\n",
    "\n",
    "    L(G) = {χ ∈ T* | S ⇒ᐩ χ}\n",
    "\n",
    "Two grammars `G`, `G'` are _equivalent_ if they generate the same language, `L(G) = L(G')`.\n",
    "\n",
    "**Example.** Given `G₁ = (T, N, P, S)`, where `T = {a, b, c, d}`, `N = {S, X}`, `P = {S → aX, S → bX, X → c, X → d}`, the sequence `ac` is derivable from `S`, formally `S ⇒ᐩ ac`,\n",
    "\n",
    "    S ⇒ aX ⇒ ac\n",
    "\n",
    "as are `ad`, `bc`, `bd`. The language generated by `G₁` is:\n",
    "\n",
    "\tL(G₁) = {ac, ad, bc, bd}"
   ]
  },
  {
   "cell_type": "markdown",
   "metadata": {
    "slideshow": {
     "slide_type": "-"
    },
    "solution": "shown",
    "solution_first": true
   },
   "source": [
    "**Question.** What are other equivalent grammars? "
   ]
  },
  {
   "cell_type": "markdown",
   "metadata": {
    "slideshow": {
     "slide_type": "fragment"
    },
    "solution": "shown"
   },
   "source": [
    "_Answer._\n",
    "- `G₁̍ = (T, N', P', S)`, where `N = {S, X, Y}`, `P = {S → XY, X → a, X → b, Y → c, Y → d}`, is equivalent to `G₁`.\n",
    "- Renaming the non-terminals also gives an equivalent grammar. In that sense, non-terminals \"carry no meaning\".\n",
    "- Adding nonterminal `X₁` and replacing `X → a` with `X → X₁, X₁ → a` also gives an equivalent grammar. Repeating this, infinitely many equivalent grammars can be obtained."
   ]
  },
  {
   "cell_type": "markdown",
   "metadata": {
    "slideshow": {
     "slide_type": "slide"
    }
   },
   "source": [
    "Languages generated by a grammar can be _finite_ or _infinite_. Infinite languages are expressed through recursion with a finite set of productions.\n",
    "\n",
    "**Example.** Let `G₂ = (T, N, P, S)`, where `T = {a}`, `N = {S}` and let the productions `P` be:\n",
    "\n",
    "    S → ε\n",
    "    S → aS\n",
    "\n",
    "**Theorem.** The language of `G₂` is that of sequences over `a` of arbitrary length,\n",
    "\n",
    "    L(G₂) = {ε, a, aa, aaa, aaaa, …} = {aⁿ | n ≥ 0}\n",
    "\n",
    "where `a⁰ = ε` and `aⁿ⁺¹ = aaⁿ`.\n",
    "\n",
    "*Proof.* We prove this formally by inclusion in both directions. By definition of `L(G₂)`,\n",
    "\n",
    "    {χ ∈ T* | S ⇒ᐩ χ} ⊆ {aⁿ | n ≥ 0}\n",
    "\n",
    "means that for every `χ ∈ T*` that is derivable from `S` there exists an `n ≥ 0` such that `χ = aⁿ`. We show this by induction over the length of derivations.\n",
    "\n",
    "- _Base._ Suppose `χ` is derived directly from `S` by `S ⇒ χ`, which leaves only `χ = ε` according to the first production. Then `χ = a⁰`.\n",
    "- _Step._ Suppose `χ` is derived from `S` in multiple steps, which leaves only `S ⇒ aS ⇒* χ` according to the second production. Then `χ` must be `aω` to be derivable from `aS`. As the derivation `S ⇒* ω` is shorter than the derivation of `S ⇒* χ`, by induction assumption there exists an `n` such that `ω = aⁿ`. Therefore `χ = aω = aaⁿ = aⁿ⁺¹`.\n",
    "\n",
    "The inclusion in the other direction means that every `aⁿ` for `n ≥ 0` can be derived from `S`:\n",
    "\n",
    "    {aⁿ | n ≥ 0} ⊆ {χ ∈ T* | S ⇒ᐩ χ}\n",
    "\n",
    "We show this by induction over `n`.\n",
    "\n",
    "- _Base._ For `n = 0`, obviously `a⁰ = ε` can be generated by the first production, `S ⇒ᐩ ε`.\n",
    "- _Step._ Suppose `aⁿ` can be generated, `S ⇒ᐩ aⁿ`. We need to show that `aⁿ⁺¹` can be generated as well. This follows from `S ⇒ aS ⇒ᐩ aaⁿ = aⁿ⁺¹`.\n",
    "\n",
    "Thus we can conclude `L(G₂) = {aⁿ | n ≥ 0}`."
   ]
  },
  {
   "cell_type": "markdown",
   "metadata": {
    "slideshow": {
     "slide_type": "slide"
    }
   },
   "source": [
    "Recursion also allows to express arbitrarily deep _nested structures_.\n",
    "\n",
    "**Example.** Let `G₃ = (T, N, P, S)`, where `T = {a, b, c}`, `N = {S}`, and the productions `P` are:\n",
    "\n",
    "    S → b\n",
    "    S → aSc\n",
    "\n",
    "The sequence `aabcc` is derivable from `S`:\n",
    "\n",
    "    S ⇒ aSc ⇒ aaScc ⇒ aabcc\n",
    "    \n",
    "The generated language is:\n",
    "\n",
    "    L(G₃) = {b, abc, aabcc, aaabccc , …} = {aⁿbcⁿ | n ≥ 0}"
   ]
  },
  {
   "cell_type": "markdown",
   "metadata": {
    "slideshow": {
     "slide_type": "slide"
    }
   },
   "source": [
    "### Chomsky Hierarchy"
   ]
  },
  {
   "cell_type": "markdown",
   "metadata": {
    "slideshow": {
     "slide_type": "-"
    }
   },
   "source": [
    "Languages can be classified according to restrictions on their grammar. The following classification is known as the _Chomsky Hierarchy_ [(Chomsky 1956)](#Chomsky56). For grammar `G = (T, N, P, S)`, let `V = T ∪ N` be its vocabulary, and assume `a ∈ T`, `A, B ∈ N`, `μ, ν, τ ∈ V*`, `σ ∈ Vᐩ`:\n",
    "\n",
    "- A grammar is _context-sensitive_ if productions are of the form\n",
    "\n",
    "    `μAν → μσν`  \n",
    "    \n",
    "    Additionally, `S → ε` is allowed provided that `S` does not occur on the right hand side of another production\n",
    "\n",
    "\n",
    "- A grammar is _context-free_ if productions are of the form\n",
    "\n",
    "    `A → τ`\n",
    "\n",
    "\n",
    "- A grammar is _regular_ if productions are of the form\n",
    "\n",
    "    `A → ε`  \n",
    "    `A → a`  \n",
    "    `A → aB`"
   ]
  },
  {
   "cell_type": "markdown",
   "metadata": {
    "slideshow": {
     "slide_type": "-"
    },
    "solution": "shown",
    "solution_first": true
   },
   "source": [
    "**Question.** Which of the grammars `G₀`, `G₁`, `G₂`, `G₃` are regular or context-free?"
   ]
  },
  {
   "cell_type": "markdown",
   "metadata": {
    "slideshow": {
     "slide_type": "fragment"
    },
    "solution": "shown"
   },
   "source": [
    "_Answer._\n",
    "- `G₀` is not regular, but is context-free\n",
    "- `G₁` is regular (and therefore context-free)\n",
    "- `G₂` is regular (and therefore context-free)\n",
    "- `G₃` is not regular, but is context-free"
   ]
  },
  {
   "cell_type": "markdown",
   "metadata": {
    "slideshow": {
     "slide_type": "slide"
    }
   },
   "source": [
    "<div style=\"float:right;background-color:lightgrey;margin-left:2em;margin-top:1em\">\n",
    "\n",
    "`S → NP VP`  \n",
    "`NP → D Nₛ`  \n",
    "`NP → D Nₚ`  \n",
    "`Nₛ VP → Nₛ Vₛ`  \n",
    "`Nₚ VP → Nₚ Vₚ`  \n",
    "`D → the`  \n",
    "`Nₛ → child`  \n",
    "`Nₚ → children`  \n",
    "`Vₛ → runs`  \n",
    "`Vₚ → run`\n",
    "\n",
    "</div>\n",
    "\n",
    "Context-sensitive languages allow to express the subject-verb agreement with respect to singular vs. plural in natural languages.\n",
    "<br><br>  \n",
    "**Example.** Consider the grammar to the right with terminals in lower case and nonterminals in upper case letters. Then\n",
    "\n",
    "  `the child runs`  \n",
    "  `the children run`  \n",
    "\n",
    "are sentences but `the child run` is not."
   ]
  },
  {
   "cell_type": "markdown",
   "metadata": {
    "solution": "shown",
    "solution_first": true
   },
   "source": [
    "**Question.** What is a derivation of `the child runs`?"
   ]
  },
  {
   "cell_type": "markdown",
   "metadata": {
    "solution": "shown"
   },
   "source": [
    "      S\n",
    "    ⇒ NP VP  \n",
    "    ⇒ D Nₛ VP\n",
    "    ⇒ D Nₛ Vₛ\n",
    "    ⇒ the child Vₛ\n",
    "    ⇒ the child runs"
   ]
  },
  {
   "cell_type": "markdown",
   "metadata": {
    "slideshow": {
     "slide_type": "slide"
    }
   },
   "source": [
    "We give some fundamental results from formal language theory. Regular grammars can express repetition, but not nesting:"
   ]
  },
  {
   "cell_type": "markdown",
   "metadata": {
    "slideshow": {
     "slide_type": "-"
    }
   },
   "source": [
    "**Theorem.** No regular grammar for `L(G₃)` exists."
   ]
  },
  {
   "cell_type": "markdown",
   "metadata": {
    "slideshow": {
     "slide_type": "slide"
    }
   },
   "source": [
    "**Example.** Let `G₄ = (T, N, P, S)`, where `T = {a, b, c}`, `N = {S, B}`, and let the productions `P` be:\n",
    "\n",
    "    S → abc\n",
    "    S → aBSc\n",
    "    Ba → aB\n",
    "    Bb → bb\n",
    "\n",
    "The grammar is not context-free. The language generated is:\n",
    "\n",
    "    L(G₄) = {abc, aabbcc, aaabbbccc, …} = {aⁿbⁿcⁿ | n ≥ 1}"
   ]
  },
  {
   "cell_type": "markdown",
   "metadata": {
    "slideshow": {
     "slide_type": "-"
    },
    "solution": "shown",
    "solution_first": true
   },
   "source": [
    "**Question.** What is a derivation of `aaabbbccc` in `G₄`? Explain how the grammar works!"
   ]
  },
  {
   "cell_type": "markdown",
   "metadata": {
    "slideshow": {
     "slide_type": "fragment"
    },
    "solution": "shown"
   },
   "source": [
    "_Answer._\n",
    "\n",
    "      S\n",
    "    ⇒ aBSc\n",
    "    ⇒ aBaBScc\n",
    "    ⇒ aBaBabccc\n",
    "    ⇒ aBaaBbccc\n",
    "    ⇒ aaBaBbccc\n",
    "    ⇒ aaaBBbccc\n",
    "    ⇒ aaaBbbccc\n",
    "    ⇒ aaabbbccc\n",
    "\n",
    "The grammar works by first producing the same number of `a`, `B`, `c`, with all `c` in correct position at the end but `a` and `B` alternating. The the production `Ba → aB` moves all `a` to the left and all `B` to the middle. Once a `B` is in its correct position, it is converted to a `b`."
   ]
  },
  {
   "cell_type": "markdown",
   "metadata": {
    "slideshow": {
     "slide_type": "slide"
    }
   },
   "source": [
    "**Theorem.** No context-free grammar for `L(G₄)` exists."
   ]
  },
  {
   "cell_type": "markdown",
   "metadata": {
    "slideshow": {
     "slide_type": "slide"
    }
   },
   "source": [
    "Grammar `G₄` is not context-sensitive: `Ba → aB` does not match the form for context-sensitive productions. However, grammar `G₄'` with the same terminals, additional nonterminal `X`, and following productions is context-sensitive and equivalent; it uses three productions to achieve `BA → AB` and adds production `A → a`:\n",
    "\n",
    "    S → Abc\n",
    "    S → ABSc\n",
    "    BA → BX\n",
    "    BX → AX\n",
    "    AX → AB\n",
    "    Bb → bb\n",
    "    A → a"
   ]
  },
  {
   "cell_type": "markdown",
   "metadata": {
    "solution": "shown",
    "solution_first": true
   },
   "source": [
    "**Question.** Argue that `G₄'` is context-sensitive. What is a derivation of `aabbcc` in `G₄'`?"
   ]
  },
  {
   "cell_type": "markdown",
   "metadata": {
    "slideshow": {
     "slide_type": "fragment"
    },
    "solution": "shown"
   },
   "source": [
    "The production `BA → BX` replaces `A` by `X` in left context `B`, so matches `μAν → μσν` with `μ`, `A`, `ν`, `σ` being `B`, `A`, `ε`, `X`. The production `BX → AX` replaces `B` with `Y` in right context `X`, so matches `μAν → μσν` with `μ`, `A`, `ν`, `σ` being `ε`, `B`, `X`, `Y`. The other productions are similar.\n",
    "\n",
    "      S\n",
    "    ⇒ ABSc\n",
    "    ⇒ ABAbcc\n",
    "    ⇒ ABXbcc\n",
    "    ⇒ AAXbcc\n",
    "    ⇒ AABbcc\n",
    "    ⇒ AAbbcc\n",
    "    ⇒ Aabbcc\n",
    "    ⇒ aabbcc"
   ]
  },
  {
   "cell_type": "markdown",
   "metadata": {
    "slideshow": {
     "slide_type": "slide"
    }
   },
   "source": [
    "**Example.** Let `G₅ = (T, N, P, S)`, where `T = {a, b}`, `N = {A, B, S}`, and productions `P` are:  \n",
    "\n",
    "  `S → aAS`  \n",
    "  `S → bBS`  \n",
    "  `Aa → aA`  \n",
    "  `Ab → bA`  \n",
    "  `Ba → aB`  \n",
    "  `Bb → bB`  \n",
    "  `AS → Sa`  \n",
    "  `BS → Sb`  \n",
    "  `S → ε`  \n",
    "\n",
    "The grammar is not context-free. The language generated is the *copy language*:\n",
    "\n",
    "    L(G₅) = {ww | w ∈ T*}\n",
    "\n",
    "The first three productions produce an arbitrary sequence of pairs of `aA` and `bB` ending with `S`. The following four productions move all `A` and `B` to the right without \"overtaking\" each other. The final three productions convert `A` to `a` and `B` to `b` from right to left."
   ]
  },
  {
   "cell_type": "markdown",
   "metadata": {
    "slideshow": {
     "slide_type": "-"
    },
    "solution": "shown",
    "solution_first": true
   },
   "source": [
    "**Question.** What is a derivation of `abab` in `G₅`?"
   ]
  },
  {
   "cell_type": "markdown",
   "metadata": {
    "slideshow": {
     "slide_type": "fragment"
    },
    "solution": "shown"
   },
   "source": [
    "_Answer._\n",
    "\n",
    "```\n",
    "  S\n",
    "⇒ aAS\n",
    "⇒ aAbBS\n",
    "⇒ abABS\n",
    "⇒ abASb\n",
    "⇒ abSab\n",
    "⇒ abab\n",
    "```"
   ]
  },
  {
   "cell_type": "markdown",
   "metadata": {
    "slideshow": {
     "slide_type": "slide"
    }
   },
   "source": [
    "**Theorem.** No context-free grammar for `L(G₅)` exists."
   ]
  },
  {
   "cell_type": "markdown",
   "metadata": {
    "slideshow": {
     "slide_type": "-"
    }
   },
   "source": [
    "Languages generated by context-sensitive, context-free, and regular grammars are called *context-sensitive*, *context-free*, and *regular languages*, respectively.\n",
    "\n",
    "**Theorem.** Every regular language is also context-free. Every context-free language is also context-sensitive.\n",
    "\n",
    "Note that the inclusion does not quite hold for grammars, as `A → ε` is allowed in regular and context-free grammars, but not in context-sensitive grammars.\n",
    "\n",
    "For brevity, we write\n",
    "\n",
    "\tσ → τ₀ | τ₁ | …\n",
    "\n",
    "for the set of productions\n",
    "\n",
    "\tσ → τ₀\n",
    "    σ → τ₁\n",
    "    …"
   ]
  },
  {
   "cell_type": "markdown",
   "metadata": {
    "slideshow": {
     "slide_type": "slide"
    }
   },
   "source": [
    "### Concrete and Abstract Syntax Trees"
   ]
  },
  {
   "cell_type": "markdown",
   "metadata": {
    "slideshow": {
     "slide_type": "-"
    }
   },
   "source": [
    "We continue with context-free languages. For those, the _parse tree_ or _concrete syntax tree_ is a visual representation of a derivation which abstracts from the order of independent applications of productions. In the example, `E` and `id` stand for expressions and identifiers of programs.\n",
    "\n",
    "<img style=\"width:6em;float:right;border-left:10px solid white\" src=\"./img/idplusid.svg\"></img>\n",
    "**Example.** Let `G₆ = (T, N, P, E)` where `T = {id, +}`, `N = {E}`, and the productions `P` are:\n",
    "\n",
    "<code>      E → id | E + E</code>\n",
    "\n",
    "There are two derivations of `id + id`:\n",
    "\n",
    "    E ⇒ E + E ⇒ id + E ⇒ id + id\n",
    "    E ⇒ E + E ⇒ E + id ⇒ id + id"
   ]
  },
  {
   "cell_type": "markdown",
   "metadata": {
    "slideshow": {
     "slide_type": "slide"
    }
   },
   "source": [
    "<img style=\"width:19em;float:right;border-left:10px solid white\" src=\"./img/idplusidplusid.svg\"></img>\n",
    "Continuing with `G₆`, there are two parse trees for `id + id + id`. A sentence with more than one parse trees is an _ambiguous sentence_ and a grammar allowing that is an *ambiguous grammar*. Syntactically ambiguous sentences may have an ambiguous meaning. In natural languages this may be resolved through the context; in programming languages, syntactic ambiguity is generally avoided."
   ]
  },
  {
   "cell_type": "markdown",
   "metadata": {
    "slideshow": {
     "slide_type": "slide"
    }
   },
   "source": [
    "<img style=\"width:9em;float:right;border-left:10px solid white\" src=\"./img/idplusleft.svg\"></img>\n",
    "Changing the productions to a _left-recursive_ form eliminates ambiguity and makes `+` associate to the left.\n",
    "\n",
    "<code>      E → id | E + id</code>"
   ]
  },
  {
   "cell_type": "markdown",
   "metadata": {
    "slideshow": {
     "slide_type": "fragment"
    }
   },
   "source": [
    "<img style=\"width:9em;float:right;border-left:10px solid white\" src=\"./img/idplusright.svg\"></img>\n",
    "Changing the productions to a _right-recursive_ form eliminates ambiguity and makes `+` associate to the right.\n",
    "\n",
    "<code>      E → id | id + E</code>"
   ]
  },
  {
   "cell_type": "markdown",
   "metadata": {
    "slideshow": {
     "slide_type": "slide"
    },
    "solution": "shown",
    "solution_first": true
   },
   "source": [
    "**Question.** For which operators in programming languages does associativity matter and for which not?"
   ]
  },
  {
   "cell_type": "markdown",
   "metadata": {
    "slideshow": {
     "slide_type": "-"
    },
    "solution": "shown"
   },
   "source": [
    "_Answer._\n",
    "- For integer division associativity matters.\n",
    "- For integer addition associativity matters in bounded arithmetic (overflow is error) and saturating arithmetic (overflow results in maximal number).\n",
    "- For integer addition associativity does not matter in modulo arithmetic, e.g. with word size.\n",
    "- For bitwise `and` and bitwise `or`, associativity does not matter.\n",
    "- For string concatenation, associativity does not matter."
   ]
  },
  {
   "cell_type": "markdown",
   "metadata": {
    "slideshow": {
     "slide_type": "slide"
    }
   },
   "source": [
    "The next example illustrates operator _precedence_.\n",
    "\n",
    "<img style=\"width:19em;float:right;border-left:10px solid white\" src=\"./img/idplusidtimesid.svg\"></img>\n",
    "**Example.** Let `G₇ = (T, N, P, E)` where `T = {id, +, ×}`, `N = {E}`, and the productions `P` are:\n",
    "\n",
    "<code>      E → id | E + id | E × id</code>\n",
    "\n",
    "In `id + id × id`, operator `+` binds tighter; in `id × id + id`, operator `×` binds tighter: `+` and `×` bind equally tight and associate to the left."
   ]
  },
  {
   "cell_type": "markdown",
   "metadata": {
    "slideshow": {
     "slide_type": "slide"
    }
   },
   "source": [
    "<img style=\"width:19em;float:right;border-left:10px solid white\" src=\"./img/idplustimestimesplus.svg\"></img>\n",
    "To have proper operator precedence, nonterminal `T` for terms is introduced and the productions are changed to:  \n",
    "<code>\n",
    "      E → T | E + T\n",
    "      T → id | T × id\n",
    "</code>"
   ]
  },
  {
   "cell_type": "markdown",
   "metadata": {
    "slideshow": {
     "slide_type": "slide"
    }
   },
   "source": [
    "To allow `+` to bind tighter than `×`, parenthesis are needed. For this, nonterminal `F` for factor is introduced.\n",
    "\n",
    "**Example.** Let `G₈ = (T, N, P, E)` where `T = {id, +, ×, (, )}`, `N = {E, T, F}`, and the productions `P` are:  \n",
    "<code>\n",
    "      E → T | E + T\n",
    "      T → F | T × F\n",
    "      F → id | ( E )\n",
    "</code>"
   ]
  },
  {
   "cell_type": "markdown",
   "metadata": {
    "slideshow": {
     "slide_type": "-"
    },
    "solution": "shown",
    "solution_first": true
   },
   "source": [
    "**Question.** What are the parse trees for `id + id × id`, for `id × id + id`, and for `(id + id) × id`?"
   ]
  },
  {
   "cell_type": "markdown",
   "metadata": {
    "slideshow": {
     "slide_type": "-"
    },
    "solution": "shown"
   },
   "source": [
    "_Answer._\n",
    "<img style=\"width:30em\" src=\"./img/idparen.svg\"></img>"
   ]
  },
  {
   "cell_type": "markdown",
   "metadata": {
    "slideshow": {
     "slide_type": "slide"
    }
   },
   "source": [
    "A _structural tree_ or _(abstract) syntax tree_ is a simplified parse trees with only the relevant structure information:\n",
    "- Productions whose sole purpose is to define precedence (like bracketing) are left out.\n",
    "- Chains of derivations are left out.\n",
    "- Nodes are labelled with the construct in question rather than a nonterminal.\n",
    "\n",
    "For example, for `id + id × id`, for `id × id + id`, and for `(id + id) × id`:\n",
    "<img style=\"width:28em\" src=\"./img/idast.svg\"></img>"
   ]
  },
  {
   "cell_type": "markdown",
   "metadata": {
    "slideshow": {
     "slide_type": "slide"
    }
   },
   "source": [
    "### Backus-Naur Form"
   ]
  },
  {
   "cell_type": "markdown",
   "metadata": {
    "slideshow": {
     "slide_type": "-"
    }
   },
   "source": [
    "Context-free grammars are more conveniently written in _Backus-Naur Form_ (*BNF*):\n",
    "- The left-hand side of the first production is the start symbol.\n",
    "- Terminals are enclosed in `'quotes'` all other symbols are nonterminals.\n",
    "- Productions for the same nonterminal are grouped into one, separated by `|`.\n",
    "- The empty string `ε` is written as `''`.\n",
    "\n",
    "For example, here is BNF grammar for expression like `– 3 × a + b`\n",
    "\n",
    "    expression → term | '+' term | '–' term | expression '+' term | expression '–' term\n",
    "    term → factor | term '×' factor | term '/' factor\n",
    "    factor → number | identifier | '(' expression ')'\n",
    "\n",
    "and one for statements like `if b then x := 3 else (x := y ; y := 5)`:\n",
    "\n",
    "    statement → assignment | compoundStatement | ifStatement | whileStatement\n",
    "    assignment → identifier ':=' expression\n",
    "    compoundStatement → '(' statementSequence ')'\n",
    "    statementSequence → statement | statementSequence ';' statement\n",
    "    ifStatement → 'if' expression 'then' statement | 'if' expression 'then' statement 'else' statement\n",
    "    whileStatement → 'while' expression 'do' statement"
   ]
  },
  {
   "cell_type": "markdown",
   "metadata": {
    "slideshow": {
     "slide_type": "slide"
    }
   },
   "source": [
    "Let us define BNF in BNF! The terminals are characters, written in quotes. The newline character is written as `\\n` and the quote character itself as `\\'`. We let `char` stand for an arbitrary character:\n",
    "\n",
    "    grammar  →  production | grammar '\\n' production\n",
    "    production  →  identifier '→' expression\n",
    "    expression  →  term | expression '|' term\n",
    "    term  →  factor | term ' ' factor\n",
    "    factor  →  identifier | string\n",
    "\tidentifier  →  letter | identifier letter | identifier digit\n",
    "    letter  →  'A' | … | 'Z'\n",
    "    digit  →  '0' | … | '9'\n",
    "    string  →  '\\'' characters '\\''\n",
    "    characters  →  characters char | ''"
   ]
  },
  {
   "cell_type": "markdown",
   "metadata": {
    "slideshow": {
     "slide_type": "slide"
    }
   },
   "source": [
    "Numerous variations of BNF exist. For example, the grammar of C uses different fonts for terminals and nonterminals, enumerates the terms of a production indented on subsequent lines, and uses <code>A<sub>opt</sub></code> if `A` is optional [(Kernighan and Ritchie 1988)](#KernighandRitchie88). Formally, using <code>A<sub>opt</sub></code> amounts to adding a production <code>A<sub>opt</sub> → A | ε</code>. Here is a simplified fragment:\n",
    "\n",
    "<code style=\"font-family:monospace\">\n",
    "<i>statement:</i>\n",
    "        <i>compound-statement</i>\n",
    "        <i>expression-statement</i>\n",
    "        <i>selection-statement</i>\n",
    "        <i>iteration-statement</i>\n",
    "<i>compound-statement:</i>\n",
    "        { <i>statement-list<sub>opt</sub></i> }\n",
    "<i>statement-list:</i>\n",
    "        <i>statement</i>\n",
    "        <i>statement-list</i> <i>statement</i>\n",
    "<i>selection-statement:</i>\n",
    "        if ( <i>expression</i> ) <i>statement</i>\n",
    "        if ( <i>expression</i> ) <i>statement</i> else <i>statement</i>\n",
    "        switch ( <i>expression</i> ) <i>statement</i>\n",
    "<i>iteration-statement:</i>\n",
    "        while ( <i>expression</i> ) <i>statement</i>\n",
    "        for ( <i>expression<sub>opt</sub></i> ; <i>expression<sub>opt</sub></i> ; <i>expression<sub>opt</sub></i> ) <i>statement</i>\n",
    "</code>"
   ]
  },
  {
   "cell_type": "markdown",
   "metadata": {
    "slideshow": {
     "slide_type": "slide"
    }
   },
   "source": [
    "EBNF is an extension of BNF: it allows simple repetitions to be formulated more naturally and it avoids an inflation of nonterminals:\n",
    "- `(A)` allows precedence to be expressed. Formally, `(A)` stands for a new nonterminal `X` with the production `X → A` added.\n",
    "- `[A]` stands for `A` optionally. Formally, `[A]` stands for a new nonterminal `X` with the production `X → A | ε` added.\n",
    "- `{A}` stands for repeating `A` an arbitrary number of times. Formally, `{A}` stands for a new nonterminal `X` with the production `X → X A | ε` added.\n",
    "\n",
    "For example, here is an EBNF grammar for expression,\n",
    "\n",
    "    expression → [ '+' | '–' ] term { ( '+' | '–' ) term}\n",
    "    term → factor { ( '×' | '/' ) factor }\n",
    "    factor → number | identifier | '(' expression ')'\n",
    "\n",
    "and one for statements:\n",
    "\n",
    "    statement → assignment | compoundStatement | ifStatement | whileStatement\n",
    "    assignment → identifier ':=' expression\n",
    "    compoundStatement → '(' statement { ';' statement } ')'\n",
    "    ifStatement → 'if' expression 'then' statement ['else' statement]\n",
    "    whileStatement → 'while' expression 'do' statement\n"
   ]
  },
  {
   "cell_type": "markdown",
   "metadata": {
    "slideshow": {
     "slide_type": "slide"
    }
   },
   "source": [
    "Let us define EBNF in EBNF!\n",
    "\n",
    "    grammar  →  production {'\\n' production }\n",
    "    production  →  identifier '→' expression\n",
    "    expression  →  term { '|' term }\n",
    "    term  →  factor { ' ' factor }\n",
    "    factor  →  identifier | string | '(' expression ')' | '[' expression ']' | '{' expression '}'\n",
    "    identifier  →  letter { letter | digit }\n",
    "    letter  →  'A' | … | 'Z'\n",
    "    digit  →  '0' | … | '9'\n",
    "    string  →  '\\'' { char } '\\''"
   ]
  },
  {
   "cell_type": "markdown",
   "metadata": {
    "slideshow": {
     "slide_type": "slide"
    }
   },
   "source": [
    "With typing and parsing of grammars in mind, sometimes `=` or `::=` is used instead of `→` and productions are terminated with a dot. For example, here is a fragment of the [Go Grammar](https://golang.org/ref/spec):\n",
    "\n",
    "    Block = \"{\" StatementList \"}\" .\n",
    "    StatementList = { Statement \";\" } .\n",
    "    \n",
    "    Statement =\n",
    "\t    Declaration | Assignment | Block | IfStmt | SwitchStmt | SelectStmt | ForStmt .\n",
    "\n",
    "    Assignment = ExpressionList assign_op ExpressionList .\n",
    "    assign_op = [ add_op | mul_op ] \"=\" .\n",
    "\n",
    "    ExpressionList = Expression { \",\" Expression } .\n",
    "\n",
    "Productions are then also called *syntactic equations*, however care has to be taken as `A = B` is not the same as `B = A`!"
   ]
  },
  {
   "cell_type": "markdown",
   "metadata": {
    "slideshow": {
     "slide_type": "slide"
    }
   },
   "source": [
    "More variations of EBNF exist:\n",
    "\n",
    "- Zero or more repetitions of `E` are also written as `E*`\n",
    "- One or more repetitions of `E` are written as `Eᐩ`, which stands `E E*`.\n",
    "- An optional occurrence of `E` is also written as `E?`, which stands for `E | ε`.\n",
    "\n",
    "Here is a fragment of the Python [grammar in the language reference](https://docs.python.org/3/reference/compound_stmts.html) (which differs slightly from the [grammar used by parsers](https://docs.python.org/3/reference/grammar.html)). As in Python indentation of statements matters, this is expressed in the grammar by symbols that indicate indentation:\n",
    "\n",
    "<pre style=\"font-family:monospace;color:royalblue\">\n",
    "compound_stmt ::=  if_stmt\n",
    "                   | while_stmt\n",
    "                   | for_stmt\n",
    "suite         ::=  stmt_list NEWLINE | NEWLINE INDENT statement+ DEDENT\n",
    "statement     ::=  stmt_list NEWLINE | compound_stmt\n",
    "stmt_list     ::=  simple_stmt (\";\" simple_stmt)* [\";\"]\n",
    "\n",
    "if_stmt ::=  \"if\" expression \":\" suite\n",
    "             (\"elif\" expression \":\" suite)*\n",
    "             [\"else\" \":\" suite]\n",
    "</pre>"
   ]
  },
  {
   "cell_type": "markdown",
   "metadata": {
    "slideshow": {
     "slide_type": "slide"
    }
   },
   "source": [
    "EBNF is not only helpful for a compact definition of a grammar, but is also essential for the construction of a specific kind of recognizer. Our choice of EBNF is motivated by that."
   ]
  },
  {
   "cell_type": "markdown",
   "metadata": {
    "slideshow": {
     "slide_type": "slide"
    }
   },
   "source": [
    "### Syntax Diagrams"
   ]
  },
  {
   "cell_type": "markdown",
   "metadata": {
    "slideshow": {
     "slide_type": "-"
    }
   },
   "source": [
    "An EBNF grammar can be equivalently represented by _syntax diagrams_ (*railroad diagrams*). These are constructed recursively over the structure of EBNF grammars. Let `'a'` stand for a string (terminal), `A` for an identifier (nonterminal), and `E`, `E₁`, `E₂`, … for expressions (right-hand side of productions):\n",
    "\n",
    "| EBNF            | syntax diagram                                                |\n",
    "|:----------------|:--------------------------------------------------------------|\n",
    "| `A → E`         |<img style=\"width:10em\" src=\"./img/production.svg\"></img> |\n",
    "| `'a'`           |<img style=\"width:10em\" src=\"./img/terminal.svg\"></img>   |\n",
    "| `A`             |<img style=\"width:10em\" src=\"./img/nonterminal.svg\"></img>|\n",
    "| `E₁ │ E₂ │ …`   |<img style=\"width:10em\" src=\"./img/choice.svg\"></img>     |\n",
    "| `E₁ E₂ …`       |<img style=\"width:14em\" src=\"./img/sequence.svg\"></img>   |\n",
    "| `(E)`           |<img style=\"width:10em\" src=\"./img/parenthesis.svg\"></img>|\n",
    "| `[E]`           |<img style=\"width:10em\" src=\"./img/option.svg\"></img>     |\n",
    "| `{E}`           |<img style=\"width:10em\" src=\"./img/repetition.svg\"></img> |"
   ]
  },
  {
   "cell_type": "markdown",
   "metadata": {
    "slideshow": {
     "slide_type": "slide"
    }
   },
   "source": [
    "For example, for\n",
    "\n",
    "    A → 'x' | '(' A { '+' A } ')'\n",
    "\n",
    "the syntax graph is:\n",
    "\n",
    "<img style=\"width:28em\" src=\"./img/railroad.svg\"></img> "
   ]
  },
  {
   "cell_type": "markdown",
   "metadata": {
    "slideshow": {
     "slide_type": "fragment"
    }
   },
   "source": [
    "**Question.** What is the syntax diagram for EBNF?"
   ]
  },
  {
   "cell_type": "markdown",
   "metadata": {
    "slideshow": {
     "slide_type": "slide"
    }
   },
   "source": [
    "### Recognizers"
   ]
  },
  {
   "cell_type": "markdown",
   "metadata": {},
   "source": [
    "A _recognizer_ for a language is a program that takes as input a string and _accepts_ it if the string is a sentence of the language or otherwise _rejects_ it. For regular, context-free, and context-sensitive languages, _universal recognizers_ exist, i.e. programs that given a grammar `G` and sentence `ω` return if `ω ∈ L(G)`. For an unrestricted grammar `G`, in general `ω ∈ L(G)` is undecidable. "
   ]
  },
  {
   "cell_type": "markdown",
   "metadata": {
    "slideshow": {
     "slide_type": "slide"
    }
   },
   "source": [
    "For context-sensitive grammar `G = (T, N, P, S)`, a universal recognizers can be constructed by generating all derivations of length `1`, length `2`, etc. from the start symbol and keeping a set, `d`, of the derived strings. New strings are only added to `d` if they are not longer than `ω` as in context-sensitive grammars, derived strings cannot shrink. This terminates if either `ω ∈ d`, in which case `ω` is accepted, or no more strings can be added to `d`, i.e. all derived strings of length of `ω` have been explored:\n",
    "\n",
    "```algorithm\n",
    "    d₀, d := {}, {S}\n",
    "    while d₀ ≠ d do\n",
    "        d₀ := d\n",
    "        for π ∈ d₀ do\n",
    "            for σ → τ ∈ P do\n",
    "                for μ, ν where π = μσν do\n",
    "                    χ := μτν\n",
    "                    if χ = ω then accept\n",
    "                    else if |χ| ≤ |ω| then d := d ∪ {χ}\n",
    "    reject\n",
    "```\n",
    "\n",
    "This algorithm always terminates and the memory it uses is bounded. Since the set `d` may be very large, it is not a practical universal recognizer, but a constructive proof that membership in a context-sensitive language is decidable."
   ]
  },
  {
   "cell_type": "markdown",
   "metadata": {
    "slideshow": {
     "slide_type": "slide"
    }
   },
   "source": [
    "For implementing in Python, symbols are represented by characters, i.e. strings as Python strings. The method `s.find(t, i)` returns the index of the first occurrence of `t` in `s` starting at index `i`, or `-1` if no such occurrence exists:"
   ]
  },
  {
   "cell_type": "code",
   "execution_count": 1,
   "metadata": {},
   "outputs": [],
   "source": [
    "def derivable(S, P, ω):\n",
    "    # S: start symbol, a string, P: productions, a set of pairs of strings, ω: string\n",
    "    d0, d = {}, {S} # set of strings\n",
    "    while d != d0:\n",
    "        d0 = d\n",
    "        for (σ, τ) in P:\n",
    "            for π in d0:\n",
    "                i = π.find(σ, 0) #print('π, i', π, i)\n",
    "                while i != - 1:\n",
    "                    χ = π[0:i] + τ + π[i + len(σ):] #print('χ', χ)\n",
    "                    if χ == ω: return True\n",
    "                    elif len(χ) <= len(ω): d = d.union({χ})\n",
    "                    i = π.find(σ, i + 1) #print('d, i', d, i)\n",
    "    return False            "
   ]
  },
  {
   "cell_type": "code",
   "execution_count": 2,
   "metadata": {},
   "outputs": [
    {
     "data": {
      "text/plain": [
       "True"
      ]
     },
     "execution_count": 2,
     "metadata": {},
     "output_type": "execute_result"
    }
   ],
   "source": [
    "derivable('S', {('S', 'a'), ('S', 'Sb')}, 'abb')"
   ]
  },
  {
   "cell_type": "code",
   "execution_count": 3,
   "metadata": {},
   "outputs": [
    {
     "data": {
      "text/plain": [
       "False"
      ]
     },
     "execution_count": 3,
     "metadata": {},
     "output_type": "execute_result"
    }
   ],
   "source": [
    "derivable('S', {('S', 'a'), ('S', 'Sb')}, 'bb')"
   ]
  },
  {
   "cell_type": "markdown",
   "metadata": {
    "slideshow": {
     "slide_type": "slide"
    }
   },
   "source": [
    "Abbreviating `the`, `child`, `children`, `runs`, `run` by `t`, `c`, `C`, `r`, `R` and `NP`, `VP`, `Nₛ Vₛ`, `Nₚ Vₚ` by `𝒩`, `𝒱`, `n`, `v`, `N`, `V`, the previous productions are expressed as:"
   ]
  },
  {
   "cell_type": "code",
   "execution_count": 4,
   "metadata": {},
   "outputs": [],
   "source": [
    "P = {('S', '𝒩𝒱'), ('𝒩', 'Dn'), ('𝒩', 'DN'), ('n𝒱', 'nv'), ('N𝒱', 'NV'),\n",
    "     ('D', 't'), ('n', 'c'), ('N', 'C'), ('v', 'r'), ('V', 'R')}"
   ]
  },
  {
   "cell_type": "code",
   "execution_count": 5,
   "metadata": {},
   "outputs": [
    {
     "data": {
      "text/plain": [
       "True"
      ]
     },
     "execution_count": 5,
     "metadata": {},
     "output_type": "execute_result"
    }
   ],
   "source": [
    "derivable('S', P, 'tCR')"
   ]
  },
  {
   "cell_type": "code",
   "execution_count": 6,
   "metadata": {},
   "outputs": [
    {
     "data": {
      "text/plain": [
       "False"
      ]
     },
     "execution_count": 6,
     "metadata": {},
     "output_type": "execute_result"
    }
   ],
   "source": [
    "derivable('S', P, 'tcR')"
   ]
  },
  {
   "cell_type": "markdown",
   "metadata": {
    "slideshow": {
     "slide_type": "slide"
    }
   },
   "source": [
    "### Historic Notes and Further Reading"
   ]
  },
  {
   "cell_type": "markdown",
   "metadata": {},
   "source": [
    "The Backus-Naur Form was first proposed by John Backus and then adopted by Peter Naur for the definition of Algol-60. Donald Knuth suggested the name [(Knuth 1964)](#Knuth64). EBNF was proposed by Niklaus Wirth [(Wirth 1977)](#Wirth77)."
   ]
  },
  {
   "cell_type": "markdown",
   "metadata": {},
   "source": [
    "The original motivation for the classification of grammars came from the study of natural languages. Following examples illustrate the potential use of regular, context-free, and context-sensitive languages (credit for examples: [C. Chesi, Univ. of Siena](http://www.ciscl.unisi.it/master/chesi/lingcomp-2017_18-03_04-formal_grammar.pdf))\n",
    "\n",
    "- _Right recursion_ (*tail recursion*) of the form `abⁿ`:\n",
    "\n",
    "\n",
    "    [the dog bit [the cat [that chased [the mouse [that ran]]]]]\n",
    "\n",
    "\n",
    "- _Center embedding_ (*true recursion*) of the form `aⁿbⁿ`:\n",
    "\n",
    "\n",
    "    [the mouse [(that) the cat [(that) the dog bit] chased] ran]\n",
    "\n",
    "\n",
    "- _Cross‐serial dependencies_ (*identity recursion*) of the form `ww`:\n",
    "\n",
    "\n",
    "    John, Mary, and David, are a widower, a widow, and a widower, respectively\n",
    "\n",
    "There is an ongoing discussion on using regular, context-free, and context-sensitive languages for natural languages. The male-female correspondence of the last example can also be seen as a semantic issue rather than a syntactic issue. If one takes the limits of human comprehension into account the full generality of context-sensitive, context-free, and even regular languages is not needed. As a consequence, further classes of grammars have emerged, e.g. [(Kallmeyer 2010)](#Kallmeyer10).\n",
    "\n",
    "Grammars can be used for translation of natural languages: first the input sentence is parsed according to the grammar of the source language and then a sentence is generated that satisfies the grammar of the target languages. However, some recent works demonstrates that neural networks can perform better than grammar-based translation [(Wu et al. 2016)](#WuEtAl16), [(Le and Schuster 2016)](#LeSchuster16)."
   ]
  },
  {
   "cell_type": "markdown",
   "metadata": {
    "slideshow": {
     "slide_type": "slide"
    }
   },
   "source": [
    "On the other hand, Chomsky's Hierarchy had a profound impact on computing: for each class of languages equivalent recognizers for languages are known. Calling languages of unrestricted grammars *recursively enumerable*, we have:\n",
    "\n",
    "|language              |recognizer              |\n",
    "|:---------------------|:-----------------------|\n",
    "|recursively enumerable|Turing machine          |\n",
    "|context-sensitive     |linear bounded automaton|\n",
    "|context-free          |pushdown automaton      |\n",
    "|regular               |finite state automaton  |\n",
    "\n",
    "Regular and context-free languages are ubiquitous as recognizers for those can be constructed efficiently and are themselves in some sense efficient. The next chapters in these notes discuss their use for scanning and parsing."
   ]
  },
  {
   "cell_type": "markdown",
   "metadata": {
    "slideshow": {
     "slide_type": "slide"
    }
   },
   "source": [
    "Even the above examples show the difficulty of writing context-sensitive grammars. After Algol 60 introduced the use of context-free grammars for its syntax, with Algol 68 an attempt was made to go beyond context-free grammars by using a dedicated \"two-level grammar\" [(Wijngaarden et al. 1976)](#WijngaardenEtAl76); that kind of grammar was not used for another language. Around the same time, Knuth proposed _attribute grammars_ as a way of associating computation (which can be type-checking and translation) to recognition of a context-free language [(Knuth 68)](#Knuth68). Since then it has become common to define a programming language with regular and context-free grammars and to use attribute grammars for compilation. Type systems, which can be thought of as context-sensitive grammars, are also used in the definition of some languages [(Cardelli 1996)](#Cardelli96)."
   ]
  },
  {
   "cell_type": "markdown",
   "metadata": {
    "slideshow": {
     "slide_type": "-"
    }
   },
   "source": [
    "The Pascal language and its successors Modula-2 and Oberon have compact EBNF grammars. The [syntax diagrams of the Apple Pascal](http://www.pascal-central.com/pascal-syntax.html) can fit on a poster. It used to be common that these were hanging on the walls next to the computers!"
   ]
  },
  {
   "cell_type": "markdown",
   "metadata": {
    "slideshow": {
     "slide_type": "slide"
    }
   },
   "source": [
    "### Exercises"
   ]
  },
  {
   "cell_type": "markdown",
   "metadata": {},
   "source": [
    "**Exercise 1.** Prove formally that `L(G₃) = {aⁿbcⁿ | n ≥ 0}`!"
   ]
  },
  {
   "cell_type": "markdown",
   "metadata": {},
   "source": [
    "**Exercise 2.** Considering `G₅`, give a derivation of `abbabb`! Explain how the grammar works!"
   ]
  },
  {
   "cell_type": "markdown",
   "metadata": {},
   "source": [
    "**Exercise 3.** A well-known syntactically ambiguous English sentence is `Time flies like an arrow`. Explain the ambiguity!"
   ]
  },
  {
   "cell_type": "markdown",
   "metadata": {},
   "source": [
    "Following exercises use the Python Natural Language Toolkit. If you need to, install it by `pip3 install nltk` or `pip install nltk`. Following example is from the [NLTK Book](https://www.nltk.org/book/ch08.html). It shows the ambiguity of the sentence:\n",
    "\n",
    "    I shot an elephant in my pajamas\n",
    "\n",
    "This is from the Groucho Marx movie, _Animal Crackers_ (1930): \"While hunting in Africa, I shot an elephant in my pajamas. How he got into my pajamas, I don't know.\" First, a grammar is defined that is sufficient to show the ambiguity and a parser for that grammar is created:"
   ]
  },
  {
   "cell_type": "code",
   "execution_count": null,
   "metadata": {},
   "outputs": [],
   "source": [
    "import nltk\n",
    "groucho_grammar = nltk.CFG.fromstring(\"\"\"\n",
    "S -> NP VP\n",
    "PP -> P NP\n",
    "NP -> Det N | Det N PP | 'I'\n",
    "VP -> V NP | VP PP\n",
    "Det -> 'an' | 'my'\n",
    "N -> 'elephant' | 'pajamas'\n",
    "V -> 'shot'\n",
    "P -> 'in'\n",
    "\"\"\")\n",
    "parser = nltk.ChartParser(groucho_grammar)"
   ]
  },
  {
   "cell_type": "markdown",
   "metadata": {},
   "source": [
    "Now all parse trees for this sentence are created and printed:"
   ]
  },
  {
   "cell_type": "code",
   "execution_count": null,
   "metadata": {},
   "outputs": [],
   "source": [
    "trees = list(parser.parse(['I', 'shot', 'an', 'elephant', 'in', 'my', 'pajamas']))\n",
    "for t in trees: print(t)"
   ]
  },
  {
   "cell_type": "markdown",
   "metadata": {},
   "source": [
    "The output shows that there are two parse trees, printed with indentation. They can also be graphically visualized:"
   ]
  },
  {
   "cell_type": "code",
   "execution_count": null,
   "metadata": {},
   "outputs": [],
   "source": [
    "trees[0]"
   ]
  },
  {
   "cell_type": "code",
   "execution_count": null,
   "metadata": {},
   "outputs": [],
   "source": [
    "trees[1]"
   ]
  },
  {
   "cell_type": "markdown",
   "metadata": {},
   "source": [
    "**Exercise 3.** Draw the parse tree of `id × (id + id)` in grammar `G₈` using NLTK!"
   ]
  },
  {
   "cell_type": "markdown",
   "metadata": {},
   "source": [
    "**Exercise 4.** Let grammar `G` be given by:\n",
    "\n",
    "    S ::= [aSbS | bSaS]\n",
    "\n",
    "- Show that `G` is ambiguous by constructing two parse trees for `abab`! You may draw the parse trees using NLTK. _Hint:_ `ε` is represented by nothing in NLTK grammars, i.e. left out.\n",
    "- What language does `G` generate? Give a formal proof! Hint: use the notation `x#σ` for the number of occurrences of `x` in sequence `σ`."
   ]
  },
  {
   "cell_type": "markdown",
   "metadata": {},
   "source": [
    "**Exercise 5.** Write grammars for expression made up of identifers `a`, `b`, `c`, `d` and operators `+`, `–`, e.g.\n",
    "\n",
    "    a – b + c – d\n",
    "\n",
    "- Write a grammar such that `+` binds tighter than `–`, i.e. the above sentence would be evaluated as `(a – (b + c)) – d`. Draw the parse tree for `a – b + c – d`!\n",
    "\n",
    "- Write a grammar such that `–` binds tighter than `+`, i.e. the above sentence would be evaluated as `(a – b) + (c – d)`. Draw the parse tree for `a – b + c – d`!\n",
    "\n",
    "- Write a grammar such that `+` and `–` bind equally strong but associate to the left, i.e. the above sentence would be evaluated as `(( a – b) + c) – d`. Draw the parse tree for `a – b + c – d`!\n",
    "\n",
    "- Write a grammar such that `+` and `–` bind equally strong but associate to the right, i.e. the above sentence would be evaluated as `a – (b + (c – d))`. Draw the parse tree for `a – b + c – d`!\n",
    "\n",
    "You may use NLTK for drawing the parse trees."
   ]
  },
  {
   "cell_type": "markdown",
   "metadata": {},
   "source": [
    "**Exercise 6.** Consider following grammar for arithmetic expressions:\n",
    "\n",
    "    expression  →  [ '+' | '–' ] term { ( '+' | '–' ) term }\n",
    "    term  →  factor { ( '×' | '/' ) factor }\n",
    "    factor  →  number | identifier | '(' expression ')'\n",
    "\n",
    "_Variant A._ Use the LaTeX `mdwtools` package to (a) pretty-print above grammar, (b) to draw the syntax diagrams of the three nonterminals, and (c) to draw the grammar with all productions!"
   ]
  },
  {
   "cell_type": "markdown",
   "metadata": {},
   "source": [
    "_Variant B._ Use the Python https://github.com/tabatkins/railroad-diagrams library to draw the syntax diagram! Do so by calling `drawProduction()` for each production, as below:"
   ]
  },
  {
   "cell_type": "markdown",
   "metadata": {},
   "source": [
    "_Variant C._ Use http://bottlecaps.de/rr/ui to draw the syntax diagram! Note that this web site uses a W3C standard for EBNF."
   ]
  },
  {
   "cell_type": "markdown",
   "metadata": {
    "slideshow": {
     "slide_type": "slide"
    }
   },
   "source": [
    "### Bibliography"
   ]
  },
  {
   "cell_type": "markdown",
   "metadata": {},
   "source": [
    "<div class=\"csl-bib-body\" style=\"line-height: 1.35; margin-left: 2em; text-indent:-2em;\">\n",
    "<a id='Cardelli96'></a> <div class=\"csl-entry\">Cardelli, Luca. 1996. “Type Systems.” <i>ACM Comput. Surv.</i> 28 (1): 263–64. <a href=\"https://doi.org/10.1145/234313.234418\">https://doi.org/10.1145/234313.234418</a>.</div>\n",
    "<a id='Chomsky56'></a> <div class=\"csl-entry\">Chomsky, N. 1956. “Three Models for the Description of Language.” <i>IRE Transactions on Information Theory</i> 2 (3): 113–24. <a href=\"https://doi.org/10.1109/TIT.1956.1056813\">https://doi.org/10.1109/TIT.1956.1056813</a>.</div>\n",
    "<a id='Kallmeyer10'></a> <div class=\"csl-entry\">Kallmeyer, Laura. 2010. <i>Parsing Beyond Context-Free Grammars</i>. Springer-Verlag Berlin Heidelberg. <a href=\"https://doi.org/10.1007/978-3-642-14846-0\">https://doi.org/10.1007/978-3-642-14846-0</a>.</div>\n",
    "<a id='KernighanRitchie88'></a> <div class=\"csl-entry\">Kernighan, Brian W., and Dennis M. Ritchie. 1988. <i>The C Programming Language</i>. 2nd ed. Prentice Hall Professional Technical Reference.</div>\n",
    "<a id='Knuth64'></a><div class=\"csl-entry\">Knuth, Donald E. “Backus Normal Form vs. Backus Naur Form.”, Letter to Editor, <i>Communications of the ACM</i>, vol. 7, no. 12, Dec. 1964, pp. 735–36. <i>Dec. 1964</i>, doi:<a href=\"https://doi.org/10.1145/355588.365140\">10.1145/355588.365140</a>.</div> \n",
    "<a id='Knuth68'></a> <div class=\"csl-entry\">Knuth, Donald E. 1968. “Semantics of Context-Free Languages.” <i>Mathematical Systems Theory</i> 2 (2): 127–45. <a href=\"https://doi.org/10.1007/BF01692511\">https://doi.org/10.1007/BF01692511</a>.</div>\n",
    "<a id='LeSchuster16'></a> <div class=\"csl-entry\">Le, Quoc V., and Mike Schuster. 2016. “A Neural Network for Machine Translation, at Production Scale.” <i>Google AI Blog</i> (blog). September 27, 2016. <a href=\"https://ai.googleblog.com/2016/09/a-neural-network-for-machine.html\">https://ai.googleblog.com/2016/09/a-neural-network-for-machine.html</a>.</div>\n",
    "<a id='WijngaardenEtAl76'></a> <div class=\"csl-entry\">Wijngaarden, A. van, B. J. Mailloux, J. E. L. Peck, C. H. A. Koster, C. H. Lindsey, M. Sintzoff, L. G. L. T. Meertens, and R. G. Fisker, eds. 1976. <i>Revised Report on the Algorithmic Language Algol 68</i>. Berlin Heidelberg: Springer-Verlag. <a href=\"https://doi.org///www.springer.com/gp/book/9783540075929\">//www.springer.com/gp/book/9783540075929</a>.</div>\n",
    "<a id='Wirth77'></a><div class=\"csl-entry\">Wirth, Niklaus. 1977. “What Can We Do about the Unnecessary Diversity of Notation for Syntactic Definitions?” <i>Communications of the ACM</i> 20 (11): 822–23. <a href=\"https://doi.org/10.1145/359863.359883\">https://doi.org/10.1145/359863.359883</a>.</div>   \n",
    "<a id='WuEtAl16'></a> <div class=\"csl-entry\">Wu, Yonghui, Mike Schuster, Zhifeng Chen, Quoc V. Le, Mohammad Norouzi, Wolfgang Macherey, Maxim Krikun, et al. 2016. “Google’s Neural Machine Translation System: Bridging the Gap between Human and Machine Translation.” <i>CoRR</i> abs/1609.08144. <a href=\"http://arxiv.org/abs/1609.08144\">http://arxiv.org/abs/1609.08144</a>.</div>\n",
    "</div>"
   ]
  }
 ],
 "metadata": {
  "kernelspec": {
   "display_name": "Python 3",
   "language": "python",
   "name": "python3"
  },
  "language_info": {
   "codemirror_mode": {
    "name": "ipython",
    "version": 3
   },
   "file_extension": ".py",
   "mimetype": "text/x-python",
   "name": "python",
   "nbconvert_exporter": "python",
   "pygments_lexer": "ipython3",
   "version": "3.8.8"
  },
  "livereveal": {
   "history": true,
   "margin": "0.01",
   "progress": true,
   "scroll": true,
   "start_slideshow_at": "selected",
   "theme": "white"
  },
  "rise": {
   "enable_chalkboard": true
  },
  "toc": {
   "base_numbering": 1,
   "nav_menu": {},
   "number_sections": false,
   "sideBar": false,
   "skip_h1_title": true,
   "title_cell": "Table of Contents",
   "title_sidebar": "Contents",
   "toc_cell": false,
   "toc_position": {},
   "toc_section_display": true,
   "toc_window_display": false
  }
 },
 "nbformat": 4,
 "nbformat_minor": 2
}
