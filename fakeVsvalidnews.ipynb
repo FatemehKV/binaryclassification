{
  "cells": [
    {
      "cell_type": "markdown",
      "metadata": {
        "id": "view-in-github",
        "colab_type": "text"
      },
      "source": [
        "<a href=\"https://colab.research.google.com/github/FatemehKV/binaryclassification/blob/main/fakeVsvalidnews.ipynb\" target=\"_parent\"><img src=\"https://colab.research.google.com/assets/colab-badge.svg\" alt=\"Open In Colab\"/></a>"
      ]
    },
    {
      "cell_type": "code",
      "execution_count": 1,
      "metadata": {
        "id": "oVBMs7zA7YAa"
      },
      "outputs": [],
      "source": [
        "import pandas as pd\n",
        "import re\n",
        "from tensorflow.keras.preprocessing.text import Tokenizer\n",
        "from tensorflow.keras.preprocessing import sequence"
      ]
    },
    {
      "cell_type": "code",
      "execution_count": 2,
      "metadata": {
        "id": "3OSdt7jreoXE"
      },
      "outputs": [],
      "source": [
        "from tensorflow.keras.models import Sequential\n",
        "from tensorflow.keras.layers import Dense\n",
        "from tensorflow.keras.layers import LSTM\n",
        "from tensorflow.keras.layers import Dropout\n",
        "from tensorflow.keras.layers import Activation\n",
        "from tensorflow.keras.layers import Embedding"
      ]
    },
    {
      "cell_type": "code",
      "execution_count": null,
      "metadata": {
        "id": "AgU62OLP7lrm"
      },
      "outputs": [],
      "source": [
        "df = pd.read_csv('/home/train.csv',error_bad_lines=False, engine=\"python\",encoding='latin-1')\n",
        "df_test = pd.read_csv('/home/test.csv',error_bad_lines=False, engine=\"python\",encoding='latin-1')\n",
        "df_test_labels = pd.read_csv('/home/labels.csv',error_bad_lines=False, engine=\"python\",encoding='latin-1')\n",
        "#Merging test data and labels in one file\n",
        "res = pd.merge(df_test, df_test_labels, on='id')"
      ]
    },
    {
      "cell_type": "code",
      "execution_count": null,
      "metadata": {
        "id": "zFoLHd7sCgNh"
      },
      "outputs": [],
      "source": [
        "#Custom cleaning pipeline\n",
        "!pip install texthero\n",
        "#texthero needs spacy as a requirement\n",
        "!python -m spacy validate\n",
        "!python -m spacy download en_core_web_sm\n",
        "import texthero as hero\n",
        "from texthero import preprocessing\n"
      ]
    },
    {
      "cell_type": "code",
      "execution_count": 16,
      "metadata": {
        "id": "rGloe5N3EDN2"
      },
      "outputs": [],
      "source": [
        "\n",
        "custom_pipeline = [preprocessing.fillna,\n",
        "                   preprocessing.lowercase,\n",
        "                   preprocessing.remove_whitespace,\n",
        "                   preprocessing.remove_diacritics, preprocessing.remove_punctuation,preprocessing.remove_digits,\n",
        "                   preprocessing.remove_urls,preprocessing.remove_stopwords\n",
        "                  ]\n",
        "#Preprocessing the training data\n",
        "df['clean_text'] = hero.clean(df['text'], custom_pipeline)\n",
        "df= df.apply(lambda x: x.str.strip() if x.dtype == \"object\" else x)\n",
        "#Before proceeding, we need to check whether a null value is present in our dataset or not.\n",
        "df.dropna(inplace=True)\n",
        "df.drop(df[(df['clean_text'] == ' ')].index, inplace=True)\n",
        "df.drop(df[(df['label'] != '0') & (df['label']!='1')].index, inplace=True)\n",
        "\n"
      ]
    },
    {
      "cell_type": "code",
      "execution_count": 19,
      "metadata": {
        "id": "3cE5pVY4EsDq"
      },
      "outputs": [],
      "source": [
        "#Preprocessing the test data\n",
        "res['clean_text'] = hero.clean(res['text'], custom_pipeline)\n",
        "res= res.apply(lambda x: x.str.strip() if x.dtype == \"object\" else x)\n",
        "res.dropna(inplace=True)\n"
      ]
    },
    {
      "cell_type": "code",
      "execution_count": 21,
      "metadata": {
        "id": "m1R0VjK6eoNW"
      },
      "outputs": [],
      "source": [
        "max_len=2000\n",
        "max_words = 400\n",
        "X_train=df['clean_text']\n",
        "token = Tokenizer(num_words=max_words,lower=True, split=' ')\n",
        "token.fit_on_texts(X_train.values)\n",
        "sequences = token.texts_to_sequences(X_train.values)\n",
        "train_sequences_padded = sequence.pad_sequences(sequences, maxlen=max_len,padding='post')\n"
      ]
    },
    {
      "cell_type": "code",
      "execution_count": null,
      "metadata": {
        "id": "EjksgCzbeok5"
      },
      "outputs": [],
      "source": [
        "embed_dim = 64\n",
        "lstm_out = 64\n",
        "batch_size = 32\n",
        "model = Sequential()\n",
        "model.add(Embedding(max_words, embed_dim, input_length = max_len))\n",
        "model.add(LSTM(lstm_out))\n",
        "model.add(Dense(256))\n",
        "model.add(Activation('relu'))\n",
        "model.add(Dropout(0.1))\n",
        "model.add(Dense(1, name='out_layer'))\n",
        "model.add(Activation('sigmoid'))\n",
        "model.compile(loss = 'binary_crossentropy', optimizer='adam',\\\n",
        "               metrics = ['accuracy'])\n",
        "print(model.summary())"
      ]
    },
    {
      "cell_type": "code",
      "execution_count": null,
      "metadata": {
        "colab": {
          "base_uri": "https://localhost:8080/"
        },
        "id": "mGr2O86ng3Kq",
        "outputId": "815ae8e1-4609-4fee-b914-137aeb129c1b"
      },
      "outputs": [
        {
          "output_type": "stream",
          "name": "stdout",
          "text": [
            "Epoch 1/10\n",
            "127/572 [=====>........................] - ETA: 7:25 - loss: 0.6881 - accuracy: 0.5546"
          ]
        }
      ],
      "source": [
        "y_train = df['label'].values.astype(int)\n",
        "history=model.fit(train_sequences_padded, y_train, batch_size=batch_size, epochs = 10)"
      ]
    },
    {
      "cell_type": "code",
      "execution_count": null,
      "metadata": {
        "id": "GQXs07FC26iq"
      },
      "outputs": [],
      "source": [
        "X_test=res['clean_text']\n",
        "sequences1=token.texts_to_sequences(X_test.values)\n",
        "test_sequences_padded = sequence.pad_sequences(sequences1,maxlen=max_len)\n",
        "y_test=res['label'].astype(int)\n",
        "scores = model.evaluate(test_sequences_padded, y_test, verbose=0)\n",
        "print(\"Accuracy: %.2f%%\" % (scores[1]*100))"
      ]
    }
  ],
  "metadata": {
    "accelerator": "GPU",
    "colab": {
      "collapsed_sections": [],
      "name": "Untitled5.ipynb",
      "provenance": [],
      "authorship_tag": "ABX9TyPBBg6HCr/f+91JiFUk5cZ0",
      "include_colab_link": true
    },
    "gpuClass": "standard",
    "kernelspec": {
      "display_name": "Python 3",
      "name": "python3"
    },
    "language_info": {
      "name": "python"
    }
  },
  "nbformat": 4,
  "nbformat_minor": 0
}