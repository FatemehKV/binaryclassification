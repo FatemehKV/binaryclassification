{
 "cells": [
  {
   "cell_type": "markdown",
   "metadata": {
    "slideshow": {
     "slide_type": "slide"
    }
   },
   "source": [
    "---\n",
    "\n",
    "# 8. Generalized Parsing\n",
    "**[Emil Sekerinski](http://www.cas.mcmaster.ca/~emil/), McMaster University, March 2021**\n",
    "\n",
    "---"
   ]
  },
  {
   "cell_type": "markdown",
   "metadata": {
    "slideshow": {
     "slide_type": "slide"
    }
   },
   "source": [
    "#### General Context-free Parsing\n",
    "\n",
    "[Earley's parser](https://doi-org.libaccess.lib.mcmaster.ca/10.1145/362007.362035) works with an arbitrary context-free grammar without backtracking. If the grammar is unambiguous, it produces a parse tree in quadratic time; if the grammar is ambiguous, it produces all parse trees in cubic time (in the length of the input). For most “practical” grammars, it produces a parse tree in linear time.\n",
    "\n",
    "We assume that the start symbol `S` appears only on the left-hand side of one rule, `S → π`; if that is not the case, a rule `S' → S` with a new start symbol `S'` can be added. Earley's parser is a top-down parser that constructs all possible derivations simultaneously: starting with `S`, nonterminals are eagerly expanded according to the all possible productions, rather than just a single production."
   ]
  },
  {
   "cell_type": "markdown",
   "metadata": {
    "slideshow": {
     "slide_type": "slide"
    }
   },
   "source": [
    "Let `P` be the set of productions and let the input be given by `x₁, …, xₙ`. Assume `xₙ₊₁ = $`, where `$` is a symbol that does not occur anywhere in the grammar. For each position of the input a set `sᵢ` of *Earley items* is maintained. An (Earley) item is a grammar rule with the right-hand side split, visualized by `•`, together with an index into the input string. An item `(A → σ • ω, j)`at position `i` means that `A` is attempted to be recognized at input position `j + 1` and up to `i` the input `xⱼ₊₁…xᵢ` can be derived from `σ`, formally `σ ⇒* xⱼ₊₁…xᵢ`. At each position `i`, the algorithm adds items to `sᵢ` in *predict* and *complete* steps and to `sᵢ₊₁` in *match* steps. The algorithm iterates over all items at one position. Since items are being added, a set, `v`, of visited items is maintained.\n",
    "\n",
    "```\n",
    "s₀ := {(S → • π, 0)}; for i = 1 to n do sᵢ := {}\n",
    "for i = 0 to n do\n",
    "    v := {}\n",
    "    while v ≠ sᵢ do\n",
    "        e :∈ sᵢ - v; v := v ∪ {e}\n",
    "        case e of\n",
    "            (A → σ • a ω, j) and a = xᵢ₊₁:        -- match (M)\n",
    "                sᵢ₊₁ := sᵢ₊₁ ∪ {(A → σ a • ω, j)} \n",
    "            (A → σ • B ω, j):                            -- predict (P)\n",
    "                for B → μ ∈ P do\n",
    "                    sᵢ := sᵢ ∪ (B → • μ, i) \n",
    "            (A → σ •, j):                                   -- complete (C)\n",
    "                for (B → μ • A ξ, k) ∈ sⱼ do\n",
    "                    sᵢ := sᵢ ∪ {(B → μ A • ξ, k)}\n",
    "accept := (S → π •, 0) ∈ sₙ\n",
    "```"
   ]
  },
  {
   "cell_type": "markdown",
   "metadata": {
    "slideshow": {
     "slide_type": "slide"
    }
   },
   "source": [
    "<div style=\"float:left\">\n",
    "\n",
    "Consider the grammar:\n",
    "\n",
    "    E → T | E + T\n",
    "    T → F | T × F\n",
    "    F → a\n",
    "\n",
    "The input `a + a × a` is accepted as `(S → E •, 0) ∈ s₅`.\n",
    "\n",
    "Lines in bold correspond to the derivation.\n",
    "</div>\n",
    "\n",
    "<div style=\"float:right\">\n",
    "\n",
    "|            | item                | step      |\n",
    "|:-----------|:--------------------|:----------|\n",
    "| `s₀`:      | `S → • E, 0`        |           |\n",
    "| `(x₁ = a)` | `E → • T, 0`        | P         |\n",
    "|            | `E → • E + T, 0`    | P         |\n",
    "|            | `T → • F, 0`        | P         |\n",
    "|            | `T → • T × F, 0`    | P         | \n",
    "|            | `F → • a, 0`        | P         |\n",
    "| `s₁`:      | **`F → a •, 0`**        | **M at `0`**  |\n",
    "| `(x₂ = +)` | **`T → F •, 0`**        | C         |\n",
    "|            | **`E → T •, 0`**        | C         |\n",
    "|            | `T → T • × F, 0`    | C         |\n",
    "|            | `S → E •, 0`        | C         |\n",
    "|            | `E → E • + T, 0`    | C         |\n",
    "| `s₂`:      | `E → E + • T, 0`    | M at `1`  |\n",
    "| `(x₃ = a)` | `T → • T × F, 2`    | P         |\n",
    "|            | `T → • F, 2`        | P         |\n",
    "|            | `F → • a, 2`        | P         |\n",
    "| `s₃`:      | **`F → a •, 2`**        | **M at `2`**  |\n",
    "| `(x₄ = ×)` | **`T → F •, 2`**        | **C**         |\n",
    "|            | `E → E + T •, 0`    | C         |\n",
    "|            | `T → T • × F, 2`    | C         |\n",
    "|            | `S → E •, 0`        | C         |\n",
    "|            | `E → E • + T, 0`    | C         |\n",
    "| `s₄`:      | `T → T × • F, 2`    | M at `3`  |\n",
    "| `(x₅ = a)` | `F → • a, 4`        | P         |\n",
    "| `s₅`:      | **`F → a •, 4`**        | **M at `4`**  |\n",
    "| `(x₆ = $)` | **`T → T × F •, 2`**    | **C**         |\n",
    "|            | **`E → E + T •, 0`**    | C         |\n",
    "|            | `T → T • × F, 2`    | C         |\n",
    "|            | **`S → E •, 0`**        | **C**         |\n",
    "|            | `E → E • + T, 0`    | C         |\n",
    "\n",
    "</div>"
   ]
  },
  {
   "cell_type": "markdown",
   "metadata": {
    "slideshow": {
     "slide_type": "slide"
    }
   },
   "source": [
    "The Python implementation below assumes that each terminal and nonterminal is a single character, the grammar is represented by a tuple of productions, and each production is a string of the form `A→τ` where `A` is a nonterminal. The first production, `g[0]` in the implementation, defines the start symbol. Since in Python strings are indexed starting from `0`, an extra character, `^`, is prepended to the input. The sequence `a ω` in the algorithm corresponds to `τ` in the implementation and `A ξ` corresponds to `ν`. "
   ]
  },
  {
   "cell_type": "code",
   "execution_count": 1,
   "metadata": {},
   "outputs": [],
   "source": [
    "def parse(g: \"grammar\", x: \"input\"):\n",
    "    global s\n",
    "    n = len(x); x = '^' + x + '$'; S, π = g[0][0], g[0][2:]\n",
    "    s = [{(S, '', π, 0)}] + [set() for _ in range(n)]#; print('   s[ 0 ]:', S, '→ •', π, ', 0')\n",
    "    for i in range(n + 1):\n",
    "        v = set() # visited items\n",
    "        while v != s[i]:\n",
    "            e = (s[i] - v).pop(); v.add(e) # pick an arbirary un-visited item\n",
    "            A, σ, τ, j = e\n",
    "            if len(τ) > 0 and τ[0] == x[i + 1]: # match, a == τ[0]\n",
    "                f = (A, σ + τ[0], τ[1:], j)\n",
    "                s[i + 1].add(f)#; print('M  s[', i + 1, ']:', f[0], '→', f[1], '•', f[2], ',', f[3])\n",
    "            elif len(τ) > 0: # predict, B == ω[0]\n",
    "                for f in ((r[0], '', r[2:], i) for r in g if r[0] == τ[0]):\n",
    "                    s[i].add(f)#; print('P  s[', i, ']:', f[0], '→', f[1], '•', f[2], ',', f[3])\n",
    "            else: # complete, len(τ) == 0\n",
    "                for f in ((B, μ + ν[0], ν[1:], k) for (B, μ, ν, k) in s[j] if len(ν) > 0 and ν[0] == A):\n",
    "                    s[i].add(f); #print('C  s[', i, ']:', f[0], '→', f[1], '•', f[2], ',', f[3])\n",
    "    return (S, π, '', 0) in s[n]"
   ]
  },
  {
   "cell_type": "code",
   "execution_count": 2,
   "metadata": {},
   "outputs": [],
   "source": [
    "G1 = (\"S→E\", \"E→a\", \"E→E+E\")"
   ]
  },
  {
   "cell_type": "code",
   "execution_count": 3,
   "metadata": {},
   "outputs": [
    {
     "data": {
      "text/plain": [
       "True"
      ]
     },
     "execution_count": 3,
     "metadata": {},
     "output_type": "execute_result"
    }
   ],
   "source": [
    "parse(G1, \"a+a+a\")"
   ]
  },
  {
   "cell_type": "code",
   "execution_count": null,
   "metadata": {},
   "outputs": [],
   "source": [
    "grammar = (\"S→E\", \"E→T\", \"E→E+T\", \"T→F\", \"T→T×F\", \"F→a\")"
   ]
  },
  {
   "cell_type": "code",
   "execution_count": null,
   "metadata": {},
   "outputs": [],
   "source": [
    "parse(grammar, \"a+a×a\")"
   ]
  },
  {
   "cell_type": "markdown",
   "metadata": {},
   "source": [
    "The algorithm can be \"animated\" by uncommenting the `print` statements; the resulting set of items can also be observed:"
   ]
  },
  {
   "cell_type": "code",
   "execution_count": 4,
   "metadata": {},
   "outputs": [
    {
     "data": {
      "text/plain": [
       "[{('E', '', 'E+E', 0), ('E', '', 'a', 0), ('S', '', 'E', 0)},\n",
       " {('E', 'E', '+E', 0), ('E', 'a', '', 0), ('S', 'E', '', 0)},\n",
       " {('E', '', 'E+E', 2), ('E', '', 'a', 2), ('E', 'E+', 'E', 0)},\n",
       " {('E', 'E', '+E', 0),\n",
       "  ('E', 'E', '+E', 2),\n",
       "  ('E', 'E+E', '', 0),\n",
       "  ('E', 'a', '', 2),\n",
       "  ('S', 'E', '', 0)},\n",
       " {('E', '', 'E+E', 4),\n",
       "  ('E', '', 'a', 4),\n",
       "  ('E', 'E+', 'E', 0),\n",
       "  ('E', 'E+', 'E', 2)},\n",
       " {('E', 'E', '+E', 0),\n",
       "  ('E', 'E', '+E', 2),\n",
       "  ('E', 'E', '+E', 4),\n",
       "  ('E', 'E+E', '', 0),\n",
       "  ('E', 'E+E', '', 2),\n",
       "  ('E', 'a', '', 4),\n",
       "  ('S', 'E', '', 0)}]"
      ]
     },
     "execution_count": 4,
     "metadata": {},
     "output_type": "execute_result"
    }
   ],
   "source": [
    "s"
   ]
  },
  {
   "cell_type": "markdown",
   "metadata": {},
   "source": [
    "For efficiency, instead of using a set of items for an Earley state, a lists with a marker separating the items  that have been visited and that still need to be visited can be used.\n",
    "\n",
    "The number of items in `sᵢ` is proportional to `i` in the worst case. Matching and predicting need at most `i` steps for `sᵢ`, but completing may need `i²` steps, as adding an item may cause a previous set to be revisited. Summing `i²` for `i` from `0` to `n` is `n³`, thus Earley's parser needs `n³` steps in the worst case."
   ]
  }
 ],
 "metadata": {
  "kernelspec": {
   "display_name": "Python 3",
   "language": "python",
   "name": "python3"
  },
  "language_info": {
   "codemirror_mode": {
    "name": "ipython",
    "version": 3
   },
   "file_extension": ".py",
   "mimetype": "text/x-python",
   "name": "python",
   "nbconvert_exporter": "python",
   "pygments_lexer": "ipython3",
   "version": "3.8.8"
  },
  "livereveal": {
   "scroll": true
  },
  "rise": {
   "enable_chalkboard": true
  }
 },
 "nbformat": 4,
 "nbformat_minor": 2
}
